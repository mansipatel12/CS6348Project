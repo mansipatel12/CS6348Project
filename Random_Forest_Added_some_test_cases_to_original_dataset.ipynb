{
  "nbformat": 4,
  "nbformat_minor": 0,
  "metadata": {
    "colab": {
      "provenance": []
    },
    "kernelspec": {
      "name": "python3",
      "display_name": "Python 3"
    },
    "language_info": {
      "name": "python"
    }
  },
  "cells": [
    {
      "cell_type": "markdown",
      "source": [
        "https://www.kaggle.com/code/alaawaelmo/youtube-comments-spam-detection/notebook#Import-Libraries\n",
        "\n",
        "Dataset: https://github.com/mansipatel12/CS6348Project/blob/main/modified_spam.csv\n"
      ],
      "metadata": {
        "id": "RDHwsso4fxNy"
      }
    },
    {
      "cell_type": "code",
      "source": [
        "# Added these to dataset while training\n",
        "\n",
        "    # \"Win a free iPhone now! Click here: http://scam.com/win\",\n",
        "    # \"Congratulations! You've won a gift card: http://fakepromo.com/gift\",\n",
        "    # \"Hurry! Claim your prize before it expires: http://phishingsite.com/prize\",\n",
        "    # \"Get rich quick! Learn how: http://fraudsite.com/make-money\",\n",
        "    # \"You've been selected for a free vacation! http://scamtravel.com/free-trip\",\n",
        "    # \"Your account is compromised! Reset here: http://fakebank.com/reset\",\n",
        "    # \"Exclusive deal just for you! http://spamsite.com/deal\",\n",
        "    # \"Limited offer! Get 50% off: http://fakepromo.com/deal\",\n",
        "    # \"Your PayPal needs verification: http://phishing.com/paypal\",\n",
        "    # \"Earn $500 daily from home: http://spamjob.com/work-from-home\",\n",
        "    # \"You've won a new car! Claim it here: http://carwin.com/claim\",\n",
        "    # \"Unlock your exclusive discount: http://shadydeals.com/save\",\n",
        "    # \"Get a free trial for our service: http://fakesite.com/trial\",\n",
        "    # \"Special gift for you! Click now: http://giftcardscam.com\",\n",
        "    # \"Your Netflix subscription is expiring! Update now: http://fakeflix.com/renew\",\n",
        "    # \"Fast weight loss pills! See results now: http://spamhealth.com/lose-weight\",\n",
        "    # \"You qualify for a free credit report: http://creditcheckscam.com\",\n",
        "    # \"Someone is searching for you! Find out who: http://stalkercheck.com\",\n",
        "    # \"Your Amazon order needs confirmation: http://fakeamazon.com/order\",\n",
        "    # \"Investment opportunity! Make money fast: http://getrichquick.com\",\n",
        "\n",
        "\n",
        "\n",
        "    # \"Hey, check out this article: https://news.com/latest-tech\",\n",
        "    # \"Let's meet up later. Details at: https://meetup.com/event\",\n",
        "    # \"I found a great tutorial here: https://learncode.com/python\",\n",
        "    # \"This blog post is amazing: https://medium.com/tech-insights\",\n",
        "    # \"Join our webinar on AI: https://webinarsite.com/ai-talk\",\n",
        "    # \"New research paper published: https://arxiv.org/1234.5678\",\n",
        "    # \"Check this documentary: https://netflix.com/documentary\",\n",
        "    # \"Read this book review: https://bookreviews.com/great-reads\",\n",
        "    # \"This online course is helpful: https://udemy.com/ml-course\",\n",
        "    # \"Join our Slack community: https://slack.com/invite\",\n",
        "    # \"Follow this coding tutorial: https://github.com/cool-repo\",\n",
        "    # \"Watch this educational video: https://youtube.com/lesson123\",\n",
        "    # \"Find the event details here: https://eventbrite.com/dev-con\",\n",
        "    # \"New job listings available: https://indeed.com/jobs\",\n",
        "    # \"Read today's breaking news: https://cnn.com/world-news\",\n",
        "    # \"Free educational resources: https://coursera.org/free-courses\",\n",
        "    # \"Download our mobile app: https://playstore.com/new-app\",\n",
        "    # \"Discover new music playlists: https://spotify.com/hits\",\n",
        "    # \"Check out this fun game: https://steam.com/popular-game\",\n",
        "    # \"Weekend travel guide: https://tripadvisor.com/destinations\"\n"
      ],
      "metadata": {
        "id": "t4ZNeb0XQWnB"
      },
      "execution_count": null,
      "outputs": []
    },
    {
      "cell_type": "markdown",
      "source": [
        "# Removing few common stop words + With Oversampling + With GridSearch"
      ],
      "metadata": {
        "id": "snBjfEdF-uyw"
      }
    },
    {
      "cell_type": "code",
      "source": [
        "import pandas as pd\n",
        "import numpy as np\n",
        "from sklearn.feature_extraction.text import TfidfVectorizer\n",
        "from sklearn.model_selection import train_test_split, GridSearchCV\n",
        "from sklearn.metrics import classification_report, confusion_matrix, f1_score\n",
        "from imblearn.pipeline import Pipeline as ImbPipeline\n",
        "from imblearn.over_sampling import SMOTE\n",
        "from sklearn.ensemble import RandomForestClassifier\n",
        "import re\n",
        "import matplotlib.pyplot as plt\n",
        "import seaborn as sns"
      ],
      "metadata": {
        "id": "a3fOVMnzhy3X"
      },
      "execution_count": 36,
      "outputs": []
    },
    {
      "cell_type": "code",
      "source": [
        "\n",
        "\n",
        "# Read the file manually, treating it as raw text\n",
        "with open(\"/content/modified_spam.csv\", \"r\", encoding=\"utf-8\") as input_file:\n",
        "    lines = input_file.readlines()\n",
        "\n",
        "# Skip the header row\n",
        "lines = lines[1:]\n",
        "\n",
        "# Process each line by splitting at the first comma\n",
        "dataset = []\n",
        "for line in lines:\n",
        "    # Split at the first comma only\n",
        "    parts = line.strip().split(\",\", 1)\n",
        "    # Ensure valid split\n",
        "    if len(parts) == 2:\n",
        "        dataset.append(parts)\n",
        "    else:\n",
        "        # Handle missing messages\n",
        "        dataset.append([parts[0], \"\"])\n"
      ],
      "metadata": {
        "id": "PMH66s1oiZIB"
      },
      "execution_count": 37,
      "outputs": []
    },
    {
      "cell_type": "code",
      "source": [
        "\n",
        "\n",
        "\n",
        "# Create a dataframe with the dataset; create two columns for label and message\n",
        "dataframe = pd.DataFrame(dataset, columns=[\"label\", \"message\"])\n",
        "# Map ham = 0 and spam = 1in the label\n",
        "dataframe['label'] = dataframe['label'].map({'ham': 0, 'spam': 1})\n"
      ],
      "metadata": {
        "id": "l3XxGScoibOU"
      },
      "execution_count": 38,
      "outputs": []
    },
    {
      "cell_type": "code",
      "source": [
        "\n",
        "# Drop rows that have NaN or inf as labels\n",
        " # Remove NaN values\n",
        "dataframe = dataframe[~dataframe['label'].isna()]\n",
        "# Remove inf laebls\n",
        "dataframe = dataframe[~dataframe['label'].apply(np.isinf)]\n",
        "\n",
        "dataframe['label'] = dataframe['label'].astype(int)\n"
      ],
      "metadata": {
        "id": "QIR3QsBcicIS"
      },
      "execution_count": 39,
      "outputs": []
    },
    {
      "cell_type": "code",
      "source": [
        "# Text cleaning function (without stopword removal - we'll let TF-IDF handle it)\n",
        "def clean_text(text):\n",
        "    # Keep numbers and some special characters that are spam indicators\n",
        "    text = text.lower()\n",
        "    text = re.sub(r\"http\\S+|www\\S+|https\\S+\", '', text, flags=re.MULTILINE)\n",
        "    text = re.sub(r'\\$[\\d,]+', ' money ', text)  # Preserve monetary amounts\n",
        "    text = re.sub(r'\\@\\w+|\\#','', text)\n",
        "    text = re.sub(r'\\d+', ' number ', text)  # Replace numbers with placeholder\n",
        "    text = re.sub(r'[\\'\\\"\\.,;:!?]', ' ', text)  # Remove punctuation but keep word separators\n",
        "    text = re.sub(r'\\s+', ' ', text).strip()\n",
        "    return text\n",
        "\n",
        "\n",
        "\n",
        "\n",
        "# Text cleaning function (without stopword removal - we'll let TF-IDF handle it)\n",
        "# def clean_text(text):\n",
        "#     text = text.lower()\n",
        "#     text = re.sub(r\"http\\S+|www\\S+|https\\S+\", '', text, flags=re.MULTILINE)\n",
        "#     text = re.sub(r'\\@\\w+|\\#','', text)\n",
        "#     text = re.sub(r'[^\\w\\s]','', text)\n",
        "#     text = re.sub(r'\\s+',' ', text).strip()\n",
        "#     return text"
      ],
      "metadata": {
        "id": "j8gBGKCT-uN_"
      },
      "execution_count": 40,
      "outputs": []
    },
    {
      "cell_type": "code",
      "source": [
        "dataframe['message'] = dataframe['message'].apply(clean_text)\n"
      ],
      "metadata": {
        "id": "UxAQEGMIjQs_"
      },
      "execution_count": 41,
      "outputs": []
    },
    {
      "cell_type": "code",
      "source": [
        "x=dataframe['message']\n",
        "y=dataframe['label']\n",
        "x_train,x_test,y_train,y_test=train_test_split(x,y,test_size=0.2,random_state=42)\n"
      ],
      "metadata": {
        "id": "KKAoeIUQjQ5k"
      },
      "execution_count": 42,
      "outputs": []
    },
    {
      "cell_type": "code",
      "source": [
        "# Parameter grid for GridSearch\n",
        "param_grid = {\n",
        "    'tfidf__max_features': [5000, 10000],\n",
        "    'tfidf__ngram_range': [(1,1)],\n",
        "    'tfidf__use_idf': [True, False],\n",
        "    'clf__n_estimators': [100],\n",
        "    'clf__max_depth': [None]\n",
        "}\n",
        "\n"
      ],
      "metadata": {
        "id": "rwVtAD3WjZ8M"
      },
      "execution_count": 43,
      "outputs": []
    },
    {
      "cell_type": "code",
      "source": [
        "# Pipeline with SMOTE and TF-IDF using built-in stop words\n",
        "pipeline = ImbPipeline([\n",
        "    ('tfidf', TfidfVectorizer(stop_words='english', max_features=5000,\n",
        "        ngram_range=(1, 3),\n",
        "        min_df=2,\n",
        "        max_df=0.8,\n",
        "        use_idf=True,\n",
        "        smooth_idf=True)),  # Using built-in English stop words\n",
        "    ('smote', SMOTE(sampling_strategy=0.5, random_state=42)),\n",
        "    ('clf', RandomForestClassifier(random_state=42,class_weight='balanced'))\n",
        "])"
      ],
      "metadata": {
        "id": "gsmK6TjzjXJL"
      },
      "execution_count": 44,
      "outputs": []
    },
    {
      "cell_type": "code",
      "source": [
        "# GridSearch with F1-score optimization\n",
        "grid_search = GridSearchCV(\n",
        "    pipeline,\n",
        "    param_grid,\n",
        "    cv=5,\n",
        "    scoring='f1',\n",
        "    n_jobs=-1,\n",
        "    verbose=1\n",
        ")"
      ],
      "metadata": {
        "id": "3t7ZPV5qjbS2"
      },
      "execution_count": 45,
      "outputs": []
    },
    {
      "cell_type": "code",
      "source": [
        "print(\"Starting Grid Search...\")\n",
        "grid_search.fit(x_train, y_train)\n",
        "print(\"Grid Search Complete!\")"
      ],
      "metadata": {
        "colab": {
          "base_uri": "https://localhost:8080/"
        },
        "id": "IEFBBHWsjcsO",
        "outputId": "3277aedd-90a9-4de9-fb74-5d7bcc6ff43f"
      },
      "execution_count": 46,
      "outputs": [
        {
          "output_type": "stream",
          "name": "stdout",
          "text": [
            "Starting Grid Search...\n",
            "Fitting 5 folds for each of 4 candidates, totalling 20 fits\n",
            "Grid Search Complete!\n"
          ]
        }
      ]
    },
    {
      "cell_type": "code",
      "source": [
        "# # Mini test run (remove after testing)\n",
        "# mini_param_grid = {\n",
        "#     'tfidf__max_features': [5000],\n",
        "#     'tfidf__ngram_range': [(1,1)],\n",
        "#     'clf__n_estimators': [50],  # Fewer trees\n",
        "#     'clf__max_depth': [None]\n",
        "# }\n",
        "# mini_search = GridSearchCV(pipeline, mini_param_grid, cv=3, n_jobs=-1)\n",
        "# mini_search.fit(x_train[:1000], y_train[:1000])  # Small data subset\n",
        "\n",
        "\n",
        "\n",
        "# classified everything as not spam"
      ],
      "metadata": {
        "id": "Xs2rTl1Tk_J3"
      },
      "execution_count": 47,
      "outputs": []
    },
    {
      "cell_type": "code",
      "source": [
        "# Best model evaluation\n",
        "best_model = grid_search.best_estimator_\n",
        "print(\"\\nBest Parameters:\")\n",
        "for param, value in grid_search.best_params_.items():\n",
        "    print(f\"{param}: {value}\")"
      ],
      "metadata": {
        "colab": {
          "base_uri": "https://localhost:8080/"
        },
        "id": "S_yFoOW_jgZR",
        "outputId": "9836e27b-1183-451c-d376-6eb3493bdc24"
      },
      "execution_count": 48,
      "outputs": [
        {
          "output_type": "stream",
          "name": "stdout",
          "text": [
            "\n",
            "Best Parameters:\n",
            "clf__max_depth: None\n",
            "clf__n_estimators: 100\n",
            "tfidf__max_features: 5000\n",
            "tfidf__ngram_range: (1, 1)\n",
            "tfidf__use_idf: True\n"
          ]
        }
      ]
    },
    {
      "cell_type": "code",
      "source": [
        "\n",
        "# Evaluation\n",
        "y_pred = best_model.predict(x_test)\n",
        "print(\"\\nClassification Report:\")\n",
        "print(classification_report(y_test, y_pred))"
      ],
      "metadata": {
        "colab": {
          "base_uri": "https://localhost:8080/"
        },
        "id": "3yfKLs7WjjdQ",
        "outputId": "50138423-c1e8-40d0-914d-f51b3f774fc0"
      },
      "execution_count": 49,
      "outputs": [
        {
          "output_type": "stream",
          "name": "stdout",
          "text": [
            "\n",
            "Classification Report:\n",
            "              precision    recall  f1-score   support\n",
            "\n",
            "           0       0.97      1.00      0.98       954\n",
            "           1       0.98      0.84      0.90       169\n",
            "\n",
            "    accuracy                           0.97      1123\n",
            "   macro avg       0.98      0.92      0.94      1123\n",
            "weighted avg       0.97      0.97      0.97      1123\n",
            "\n"
          ]
        }
      ]
    },
    {
      "cell_type": "code",
      "source": [
        "print(\"\\nConfusion Matrix:\")\n",
        "plt.figure(figsize=(6,6))\n",
        "sns.heatmap(confusion_matrix(y_test, y_pred),\n",
        "            annot=True, fmt='d', cmap='Blues',\n",
        "            xticklabels=['Ham', 'Spam'],\n",
        "            yticklabels=['Ham', 'Spam'])\n",
        "plt.show()\n"
      ],
      "metadata": {
        "colab": {
          "base_uri": "https://localhost:8080/",
          "height": 557
        },
        "id": "NxGanh8yjmL9",
        "outputId": "cae74fce-b5ce-4735-9ba7-f8656cb62ffd"
      },
      "execution_count": 50,
      "outputs": [
        {
          "output_type": "stream",
          "name": "stdout",
          "text": [
            "\n",
            "Confusion Matrix:\n"
          ]
        },
        {
          "output_type": "display_data",
          "data": {
            "text/plain": [
              "<Figure size 600x600 with 2 Axes>"
            ],
            "image/png": "[encoded data removed]"
          },
          "metadata": {}
        }
      ]
    },
    {
      "cell_type": "code",
      "source": [
        "# Test on sample messages\n",
        "test_msgs = [\n",
        "    # \"WINNER!! Claim your prize now! Text YES to 4455\",\n",
        "    # \"Hey, can we reschedule for tomorrow?\",\n",
        "    # \"URGENT: Your account needs verification\",\n",
        "    # \"Lunch tomorrow at the usual place?\",\n",
        "    # \"You were the randomly selected candidate click this link to find out more\"\n",
        "\n",
        "\n",
        "# Spam messages\n",
        "    \"URGENT: Your PayPal account has been locked! Click here to verify: bit.ly/paypal-secure-now\",\n",
        "    \"You've won $5000 Walmart gift card! Reply YES to claim your prize 🎁\",\n",
        "    \"Crypt0 0pportunity! Invest in Bitcoin now & 10X your money in 24hrs. Join here: crypto-scam.site\",\n",
        "    \"Apple ID suspended - suspicious activity detected. Confirm your details: appl3-id-verify.com\",\n",
        "    \"Your Netflix subscription expired. Update payment now to avoid interruption: netflix-payment-update.cc\",\n",
        "    \"Fr33 iPh0n3 XV just 4 completing survey! Limited time: freestuff4u.win\",\n",
        "    \"L0sers dont click! WINNERS get $$$ now at winnerz-only.xyz\",\n",
        "    \"Hi mom, can you believe I won a free iPhone? Just had to pay $5 shipping! So excited!\",\n",
        "    \"Your Amazon package couldn't be delivered. Reschedule here: amaz0n-delivery-reschedule.com\",\n",
        "    \"Claim now!\",\n",
        "    \"$$$\",\n",
        "    \"¡Gane $1000 dólares ahora! Haga clic aquí\",\n",
        "    \"🤑🤑🤑 MAKE MONEY FAST 🚀🚀🚀 Click now!\",\n",
        "    \"❗URGENT❗ Your account ❗VERIFICATION❗ needed\",\n",
        "    \"You have 1 unread message 555-1234 call now\",\n",
        "    \"H0t sing1es in your area want 2 meet U! Chat now: lonely-harts.click\",\n",
        "    \"Bank of America: Your debit card was used for $1,287 at Walmart. Call 800-555-0199 if not you\",\n",
        "\n",
        "\n",
        "    \"Hey, are we still meeting for lunch tomorrow at 1pm?\",\n",
        "    \"Can you pick up milk on your way home? We're all out.\",\n",
        "    \"Running late - stuck in traffic. Be there in 20 mins.\",\n",
        "    \"Your DoorDash order #48721 has been delivered\",\n",
        "    \"Your doctor's appointment is confirmed for Thursday at 3:30pm\",\n",
        "    \"United Airlines: Flight UA341 to Chicago is on time, departs at 6:15pm\",\n",
        "    \"Following up on our meeting yesterday - attached are the revised project timelines\",\n",
        "    \"The team meeting has been moved to Conference Room B\",\n",
        "    \"Your job application at Google has been received and is under review\",\n",
        "    \"FREE concert tickets for volunteers! Sign up at studentcenter.org\",\n",
        "    \"You won teacher of the month! Come to the faculty lounge for your prize\",\n",
        "    \"OK\",\n",
        "    \"Let's meet at the café at 5\",\n",
        "    \"The code is 58392 expires in 5 mins\",\n",
        "    \"My new number is 415-555-0192\",\n",
        "    \"Dinner was great! 😊👍🍕\",\n",
        "    \"Bank fraud alert: Please call our verified number at 800-432-1000 if you see suspicious activity\",\n",
        "    \"Did you get a chance to view this article? https://netflix.com/documentary\"\n",
        "]\n"
      ],
      "metadata": {
        "id": "D_yxGtbZjpqT"
      },
      "execution_count": 51,
      "outputs": []
    },
    {
      "cell_type": "code",
      "source": [
        "for msg in test_msgs:\n",
        "    clean_msg = clean_text(msg)\n",
        "    proba = best_model.predict_proba([clean_msg])[0]\n",
        "    print(f\"\\nMessage: {msg}\")\n",
        "    print(f\"Prediction: {'SPAM' if best_model.predict([clean_msg])[0] else 'HAM'}\")\n",
        "    print(f\"Confidence: {max(proba):.2%}\")"
      ],
      "metadata": {
        "colab": {
          "base_uri": "https://localhost:8080/"
        },
        "id": "R44bD0OajuL0",
        "outputId": "67f81199-932a-4ec3-86fe-0856dedd4050"
      },
      "execution_count": 52,
      "outputs": [
        {
          "output_type": "stream",
          "name": "stdout",
          "text": [
            "\n",
            "Message: URGENT: Your PayPal account has been locked! Click here to verify: bit.ly/paypal-secure-now\n",
            "Prediction: SPAM\n",
            "Confidence: 84.00%\n",
            "\n",
            "Message: You've won $5000 Walmart gift card! Reply YES to claim your prize 🎁\n",
            "Prediction: SPAM\n",
            "Confidence: 67.00%\n",
            "\n",
            "Message: Crypt0 0pportunity! Invest in Bitcoin now & 10X your money in 24hrs. Join here: crypto-scam.site\n",
            "Prediction: HAM\n",
            "Confidence: 69.78%\n",
            "\n",
            "Message: Apple ID suspended - suspicious activity detected. Confirm your details: appl3-id-verify.com\n",
            "Prediction: SPAM\n",
            "Confidence: 81.00%\n",
            "\n",
            "Message: Your Netflix subscription expired. Update payment now to avoid interruption: netflix-payment-update.cc\n",
            "Prediction: HAM\n",
            "Confidence: 66.00%\n",
            "\n",
            "Message: Fr33 iPh0n3 XV just 4 completing survey! Limited time: freestuff4u.win\n",
            "Prediction: HAM\n",
            "Confidence: 54.04%\n",
            "\n",
            "Message: L0sers dont click! WINNERS get $$$ now at winnerz-only.xyz\n",
            "Prediction: HAM\n",
            "Confidence: 85.00%\n",
            "\n",
            "Message: Hi mom, can you believe I won a free iPhone? Just had to pay $5 shipping! So excited!\n",
            "Prediction: HAM\n",
            "Confidence: 59.00%\n",
            "\n",
            "Message: Your Amazon package couldn't be delivered. Reschedule here: amaz0n-delivery-reschedule.com\n",
            "Prediction: HAM\n",
            "Confidence: 57.00%\n",
            "\n",
            "Message: Claim now!\n",
            "Prediction: SPAM\n",
            "Confidence: 57.00%\n",
            "\n",
            "Message: $$$\n",
            "Prediction: HAM\n",
            "Confidence: 100.00%\n",
            "\n",
            "Message: ¡Gane $1000 dólares ahora! Haga clic aquí\n",
            "Prediction: HAM\n",
            "Confidence: 96.00%\n",
            "\n",
            "Message: 🤑🤑🤑 MAKE MONEY FAST 🚀🚀🚀 Click now!\n",
            "Prediction: SPAM\n",
            "Confidence: 62.00%\n",
            "\n",
            "Message: ❗URGENT❗ Your account ❗VERIFICATION❗ needed\n",
            "Prediction: HAM\n",
            "Confidence: 51.00%\n",
            "\n",
            "Message: You have 1 unread message 555-1234 call now\n",
            "Prediction: SPAM\n",
            "Confidence: 54.97%\n",
            "\n",
            "Message: H0t sing1es in your area want 2 meet U! Chat now: lonely-harts.click\n",
            "Prediction: HAM\n",
            "Confidence: 57.00%\n",
            "\n",
            "Message: Bank of America: Your debit card was used for $1,287 at Walmart. Call 800-555-0199 if not you\n",
            "Prediction: HAM\n",
            "Confidence: 79.72%\n",
            "\n",
            "Message: Hey, are we still meeting for lunch tomorrow at 1pm?\n",
            "Prediction: HAM\n",
            "Confidence: 100.00%\n",
            "\n",
            "Message: Can you pick up milk on your way home? We're all out.\n",
            "Prediction: HAM\n",
            "Confidence: 99.00%\n",
            "\n",
            "Message: Running late - stuck in traffic. Be there in 20 mins.\n",
            "Prediction: HAM\n",
            "Confidence: 75.00%\n",
            "\n",
            "Message: Your DoorDash order #48721 has been delivered\n",
            "Prediction: HAM\n",
            "Confidence: 60.00%\n",
            "\n",
            "Message: Your doctor's appointment is confirmed for Thursday at 3:30pm\n",
            "Prediction: HAM\n",
            "Confidence: 99.00%\n",
            "\n",
            "Message: United Airlines: Flight UA341 to Chicago is on time, departs at 6:15pm\n",
            "Prediction: HAM\n",
            "Confidence: 87.11%\n",
            "\n",
            "Message: Following up on our meeting yesterday - attached are the revised project timelines\n",
            "Prediction: HAM\n",
            "Confidence: 96.00%\n",
            "\n",
            "Message: The team meeting has been moved to Conference Room B\n",
            "Prediction: HAM\n",
            "Confidence: 92.00%\n",
            "\n",
            "Message: Your job application at Google has been received and is under review\n",
            "Prediction: HAM\n",
            "Confidence: 98.00%\n",
            "\n",
            "Message: FREE concert tickets for volunteers! Sign up at studentcenter.org\n",
            "Prediction: HAM\n",
            "Confidence: 67.00%\n",
            "\n",
            "Message: You won teacher of the month! Come to the faculty lounge for your prize\n",
            "Prediction: HAM\n",
            "Confidence: 56.00%\n",
            "\n",
            "Message: OK\n",
            "Prediction: HAM\n",
            "Confidence: 100.00%\n",
            "\n",
            "Message: Let's meet at the café at 5\n",
            "Prediction: HAM\n",
            "Confidence: 97.00%\n",
            "\n",
            "Message: The code is 58392 expires in 5 mins\n",
            "Prediction: HAM\n",
            "Confidence: 50.00%\n",
            "\n",
            "Message: My new number is 415-555-0192\n",
            "Prediction: SPAM\n",
            "Confidence: 75.88%\n",
            "\n",
            "Message: Dinner was great! 😊👍🍕\n",
            "Prediction: HAM\n",
            "Confidence: 100.00%\n",
            "\n",
            "Message: Bank fraud alert: Please call our verified number at 800-432-1000 if you see suspicious activity\n",
            "Prediction: HAM\n",
            "Confidence: 55.26%\n",
            "\n",
            "Message: Did you get a chance to view this article? https://netflix.com/documentary\n",
            "Prediction: SPAM\n",
            "Confidence: 52.00%\n"
          ]
        }
      ]
    },
    {
      "cell_type": "code",
      "source": [
        "spam_text=[\"I made $5,000 in one week! You can too, click here to find out how!\",\n",
        "      \"This is amazing, check my page for similar content!\",\n",
        "      \"I love this! Sub for sub?\",\n",
        "      \"🔥🔥 This video is on fire! Check my channel too! 🔥🔥\"]\n",
        "\n",
        "\n",
        "not_spam_text=[\"I Love eminem\",\n",
        "              \"i think about 100 millions of the views come from people who only wanted to check the views\",\n",
        "              \"PSY - GANGNAM STYLE(?????) M/V thumbs up if u checked this video to see hw views it got﻿\"]"
      ],
      "metadata": {
        "id": "QZuEEk5ij2y6"
      },
      "execution_count": 53,
      "outputs": []
    },
    {
      "cell_type": "code",
      "source": [
        "\n",
        "spam_text=[clean_text(sent) for sent in spam_text ]\n",
        "not_spam_text=[clean_text(sent) for sent in not_spam_text ]\n"
      ],
      "metadata": {
        "id": "Iyb18ZnZkRhy"
      },
      "execution_count": 54,
      "outputs": []
    },
    {
      "cell_type": "code",
      "source": [
        "spam_text\n"
      ],
      "metadata": {
        "colab": {
          "base_uri": "https://localhost:8080/"
        },
        "id": "xiZ7QEEckTbl",
        "outputId": "88f619d3-ec42-4d0c-e433-81267376ed30"
      },
      "execution_count": 55,
      "outputs": [
        {
          "output_type": "execute_result",
          "data": {
            "text/plain": [
              "['i made money in one week you can too click here to find out how',\n",
              " 'this is amazing check my page for similar content',\n",
              " 'i love this sub for sub',\n",
              " '🔥🔥 this video is on fire check my channel too 🔥🔥']"
            ]
          },
          "metadata": {},
          "execution_count": 55
        }
      ]
    },
    {
      "cell_type": "code",
      "source": [
        "not_spam_text\n"
      ],
      "metadata": {
        "colab": {
          "base_uri": "https://localhost:8080/"
        },
        "id": "diGQWkUgkVMr",
        "outputId": "2da564c3-ca5f-421b-81a2-8149931d45c1"
      },
      "execution_count": 56,
      "outputs": [
        {
          "output_type": "execute_result",
          "data": {
            "text/plain": [
              "['i love eminem',\n",
              " 'i think about number millions of the views come from people who only wanted to check the views',\n",
              " 'psy - gangnam style( ) m/v thumbs up if u checked this video to see hw views it got\\ufeff']"
            ]
          },
          "metadata": {},
          "execution_count": 56
        }
      ]
    },
    {
      "cell_type": "code",
      "source": [
        "pred = best_model.predict(spam_text)\n",
        "for i in range(len(spam_text)):\n",
        "    if pred[i] < 0.5:\n",
        "        print(f'Text: \"{spam_text[i]}\" \\nPrediction: Not Spam\\n')\n",
        "    else:\n",
        "        print(f'Text: \"{spam_text[i]}\" \\nPrediction: Spam\\n')\n"
      ],
      "metadata": {
        "colab": {
          "base_uri": "https://localhost:8080/"
        },
        "id": "qtTQuotNkWMV",
        "outputId": "1c433ea7-75b9-428b-e48e-2c239491157e"
      },
      "execution_count": 57,
      "outputs": [
        {
          "output_type": "stream",
          "name": "stdout",
          "text": [
            "Text: \"i made money in one week you can too click here to find out how\" \n",
            "Prediction: Not Spam\n",
            "\n",
            "Text: \"this is amazing check my page for similar content\" \n",
            "Prediction: Not Spam\n",
            "\n",
            "Text: \"i love this sub for sub\" \n",
            "Prediction: Not Spam\n",
            "\n",
            "Text: \"🔥🔥 this video is on fire check my channel too 🔥🔥\" \n",
            "Prediction: Not Spam\n",
            "\n"
          ]
        }
      ]
    },
    {
      "cell_type": "code",
      "source": [
        "\n",
        "pred = best_model.predict(not_spam_text)\n",
        "for i in range(len(not_spam_text)):\n",
        "    if pred[i] < 0.5:\n",
        "        print(f'Text: \"{not_spam_text[i]}\" \\nPrediction: Not Spam\\n')\n",
        "    else:\n",
        "        print(f'Text: \"{not_spam_text[i]}\" \\nPrediction: Spam\\n')"
      ],
      "metadata": {
        "colab": {
          "base_uri": "https://localhost:8080/"
        },
        "id": "RdmH6fXikX9j",
        "outputId": "05ca4540-4651-4df7-e069-4bc7b9e62bcd"
      },
      "execution_count": 58,
      "outputs": [
        {
          "output_type": "stream",
          "name": "stdout",
          "text": [
            "Text: \"i love eminem\" \n",
            "Prediction: Not Spam\n",
            "\n",
            "Text: \"i think about number millions of the views come from people who only wanted to check the views\" \n",
            "Prediction: Not Spam\n",
            "\n",
            "Text: \"psy - gangnam style( ) m/v thumbs up if u checked this video to see hw views it got﻿\" \n",
            "Prediction: Not Spam\n",
            "\n"
          ]
        }
      ]
    },
    {
      "cell_type": "code",
      "source": [
        "from sklearn.metrics import accuracy_score, classification_report, confusion_matrix\n",
        "\n",
        "# Predict on test data\n",
        "y_pred = best_model.predict(x_test)\n",
        "\n",
        "# Calculate testing accuracy\n",
        "test_accuracy = accuracy_score(y_test, y_pred)\n",
        "print(f\"\\nTesting Accuracy: {test_accuracy:.2%}\")  # e.g., \"95.23%\"\n",
        "\n",
        "# Detailed classification report\n",
        "print(\"\\nClassification Report:\")\n",
        "print(classification_report(y_test, y_pred, target_names=[\"HAM\", \"SPAM\"]))\n",
        "\n",
        "# Confusion Matrix (visual)\n",
        "plt.figure(figsize=(6, 6))\n",
        "sns.heatmap(\n",
        "    confusion_matrix(y_test, y_pred),\n",
        "    annot=True,\n",
        "    fmt=\"d\",\n",
        "    cmap=\"Blues\",\n",
        "    xticklabels=[\"HAM\", \"SPAM\"],\n",
        "    yticklabels=[\"HAM\", \"SPAM\"],\n",
        ")\n",
        "plt.xlabel(\"Predicted\")\n",
        "plt.ylabel(\"Actual\")\n",
        "plt.title(\"Confusion Matrix (Test Data)\")\n",
        "plt.show()"
      ],
      "metadata": {
        "colab": {
          "base_uri": "https://localhost:8080/",
          "height": 790
        },
        "id": "TYtBmxd7mZu5",
        "outputId": "6379d2fa-927e-4047-bce7-885f726c3d85"
      },
      "execution_count": 59,
      "outputs": [
        {
          "output_type": "stream",
          "name": "stdout",
          "text": [
            "\n",
            "Testing Accuracy: 97.33%\n",
            "\n",
            "Classification Report:\n",
            "              precision    recall  f1-score   support\n",
            "\n",
            "         HAM       0.97      1.00      0.98       954\n",
            "        SPAM       0.98      0.84      0.90       169\n",
            "\n",
            "    accuracy                           0.97      1123\n",
            "   macro avg       0.98      0.92      0.94      1123\n",
            "weighted avg       0.97      0.97      0.97      1123\n",
            "\n"
          ]
        },
        {
          "output_type": "display_data",
          "data": {
            "text/plain": [
              "<Figure size 600x600 with 2 Axes>"
            ],
            "image/png": "[encoded data removed]"
          },
          "metadata": {}
        }
      ]
    }
  ]
}